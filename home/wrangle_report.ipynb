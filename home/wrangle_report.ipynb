{
 "cells": [
  {
   "cell_type": "markdown",
   "metadata": {},
   "source": [
    "## Reporting: wrangle_report"
   ]
  },
  {
   "cell_type": "markdown",
   "metadata": {},
   "source": [
    "In my Data Wrangling process, I followed three main steps:\n",
    "    1. Gathering\n",
    "    2. Assessing\n",
    "    3. Cleaning\n",
    "    \n",
    "**In the first step: Gathering;**\n",
    "- Dataset 1: I loaded the provided Twitter Archive Data into a Dataframe.\n",
    "- Dataset 2: I used requests library to download the tweet image prediction file using the provided url.I then loaded it into a pandas dataframe.\n",
    "- Dataset 3: I queried the Twitter API to gather additional data on the tweets. This also involved reading the tweet_json.txt into a dataframe line by line.\n",
    "\n",
    "**In the second step: Assessing;**\n",
    "- I carried out both visual and programmatic assessments and documented 8 quality issues and 2 tidiness issues.\n",
    "\n",
    "Here are the documented issues:\n",
    "**Quality issues**\n",
    "##### Dataset 1: Twitter Archive (twitter_archive_df)\n",
    "1. Missing data. More than 60% of values missing in these columns (in_reply_to_status_id,       in_reply_to_user_id,retweeted_status_id,retweeted_status_user_id, retweeted_status_timestamp). More missing values in expanded_urls column. Also, the source  column is unnecessary.\n",
    "\n",
    "2. The column, timestamp, is object/string datatype instead of datetime. tweet ids are also integers instead of object/string.\n",
    "3. Tweets beyond August 1st, 2017 are not necessary as they'll not be used.\n",
    "4. The dog \"stages\" (doggo, floofer, pupper, and puppo) are not all correct. eg. Dog id 25\tis a floof a.k.a floofer but dog name is None.\n",
    "5. There are retweets when we only want original tweets that have images.\n",
    "\n",
    "##### Dataset 2: The Tweet Image Predictions (image_predictions_df)\n",
    "6. tweet_id (s) are integers instead of object/string data type.\n",
    "\n",
    "##### Dataset 3: Additional data from Twitter API (tweets_df)\n",
    "7. Missing data. More than 60% of values missing in these columns (quoted_status,quoted_status_id_str,  quoted_status_permalink,quoted_status_id,retweeted_status,contributors,coordinates,geo, place, in_reply_to_screen_name, in_reply_to_status_id, in_reply_to_status_id_str, in_reply_to_user_id, in_reply_to_user_id_str). \n",
    " - Also these columns are unnecessary (display_text_range, entities, full_text, truncated, id_str, is_quote_status, source, truncated, lang).\n",
    "8. Both id and id_str columns contain the same data. One is unnecessary. Also, the retained should be changed to tweet_id to be consistent with the data in the other tables.\n",
    "\n",
    "**Tidiness issues**\n",
    "##### Dataset 1: Twitter Archive (twitter_archive_df)\n",
    "1. The dog stages (doggo, floofer, pupper, puppo) are in different columns instead of 1 column, dog_stage.\n",
    "2. All the three tables should be merged into one.\n",
    "\n",
    "\n",
    "**In the third step: Cleaning;** \n",
    "- I first made copies of the data so as to reserve the original data.\n",
    "- I then cleaned the above documented issues using the Define,Code and Test Frame.\n",
    "\n",
    "I then made copies of the master cleaned dataset and saved into a csv file.\n",
    "\n",
    "Having completed these 3 steps of Data Wrangling successfully, I proceeded to analyzing and visualization.\n",
    "Here, I documented 3 insights and had 2 visualizations.\n",
    "\n",
    "The highlighted Insights were:\n",
    "1. The most retweeted tweets also have very high favourite count. They are clearly quite popular.\n",
    "\n",
    "2. The most retweeted dog stage is doggo\n",
    "\n",
    "3. The more favourited a tweet is, the more likely it is to be retweeted again and again.\n",
    "\n",
    "There is still more work to be done on the dataset, more assessing and cleaning then visualizations since the Data Wrangling Process can always be iterated."
   ]
  }
 ],
 "metadata": {
  "kernelspec": {
   "display_name": "Python 3",
   "language": "python",
   "name": "python3"
  },
  "language_info": {
   "codemirror_mode": {
    "name": "ipython",
    "version": 3
   },
   "file_extension": ".py",
   "mimetype": "text/x-python",
   "name": "python",
   "nbconvert_exporter": "python",
   "pygments_lexer": "ipython3",
   "version": "3.6.3"
  }
 },
 "nbformat": 4,
 "nbformat_minor": 2
}
